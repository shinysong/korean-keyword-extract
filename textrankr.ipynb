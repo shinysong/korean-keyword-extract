{
 "cells": [
  {
   "attachments": {},
   "cell_type": "markdown",
   "metadata": {},
   "source": [
    "# textrankr\n",
    "- 공식: https://github.com/theeluwin/textrankr\n",
    "- blog: https://chaeeunsong.tistory.com/25"
   ]
  },
  {
   "attachments": {},
   "cell_type": "markdown",
   "metadata": {},
   "source": [
    "- **java 버전 확인 : 1.7 이상**\n",
    "    - pip install JPype1>=0.7.0\n",
    "    - pip install konlpy\n",
    "    - pip install textrankr"
   ]
  },
  {
   "cell_type": "code",
   "execution_count": null,
   "metadata": {},
   "outputs": [],
   "source": [
    "from typing import List\n",
    "from konlpy.tag import Okt\n",
    "\n",
    "class OktTokenizer:\n",
    "    okt: Okt = Okt()\n",
    "\n",
    "    def __call__(self, text: str) -> List[str]:\n",
    "        tokens: List[str] = self.okt.phrases(text)\n",
    "        return tokens"
   ]
  },
  {
   "cell_type": "code",
   "execution_count": null,
   "metadata": {},
   "outputs": [],
   "source": [
    "from typing import List\n",
    "from textrankr import TextRank\n",
    "\n",
    "text = \"서울 지진 피해에 대한 데이터 분석을 위해서는 어떤 종류의 데이터를 사용해야 할지 먼저 생각해보아야 합니다. 예를 들어, 지진 발생 시간, 지진 규모, 지진 발생 지역, 피해 규모 등의 정보가 필요할 것입니다. 서울 지진 피해 분석 예시: 서울 지역에서 최근 몇 년간 발생한 지진 데이터를 수집하여 지진 발생 건수, 지진 규모, 지진 발생 지역 등의 정보를 파악할 수 있습니다. 이를 바탕으로 서울 지역에서 지진 발생이 가장 많은 지역, 지진 규모와 피해 규모 간의 상관 관계, 지진 발생 시간대 등을 분석할 수 있습니다. 또한, 특정 지역에서의 지진 발생 시 피해 규모가 어떻게 나타나는지 분석하여 지진 대비 대응 전략을 마련할 수 있습니다. 서울 지진에 대한 데이터는 국가지진정보센터에서 제공하는 '국내 지진 정보 시스템'에서 확인할 수 있습니다. 이 시스템에서는 지난 1년간의 국내 지진 정보를 확인할 수 있으며, 서울 지역에서 발생한 지진 정보도 포함되어 있습니다. 이를 바탕으로 데이터를 수집하고 분석할 수 있습니다.\"\n",
    "\n",
    "mytokenizer: OktTokenizer = OktTokenizer()\n",
    "textrank: TextRank = TextRank(mytokenizer)\n",
    "\n",
    "k: int = 3  # num sentences in the resulting summary\n",
    "\n",
    "# summarized: str = textrank.summarize(text, k)\n",
    "# print(summarized)  # gives you some text\n",
    "\n",
    "# if verbose = False, it returns a list\n",
    "summaries: List[str] = textrank.summarize(text, k, verbose=False)\n",
    "for summary in summaries:\n",
    "    print(summary)"
   ]
  },
  {
   "cell_type": "markdown",
   "metadata": {},
   "source": [
    "사실 키워드 추출하려고 한건데 이 라이브러리는 키워드 추출 기능이 없었다..요약에 쓸 수 있음"
   ]
  },
  {
   "cell_type": "markdown",
   "metadata": {},
   "source": []
  }
 ],
 "metadata": {
  "kernelspec": {
   "display_name": "chat_venv",
   "language": "python",
   "name": "python3"
  },
  "language_info": {
   "codemirror_mode": {
    "name": "ipython",
    "version": 3
   },
   "file_extension": ".py",
   "mimetype": "text/x-python",
   "name": "python",
   "nbconvert_exporter": "python",
   "pygments_lexer": "ipython3",
   "version": "3.8.16"
  },
  "orig_nbformat": 4
 },
 "nbformat": 4,
 "nbformat_minor": 2
}
