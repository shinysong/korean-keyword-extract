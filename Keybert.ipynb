{
 "cells": [
  {
   "attachments": {},
   "cell_type": "markdown",
   "metadata": {},
   "source": [
    "# Keybert\n",
    "- blog\n",
    "    - [[NLP] Kiwi 설치와 keyBert 한글 키워드 추출](https://chaeeunsong.tistory.com/27)\n",
    "    - [Keybert와 kiwi형태소분석기를 사용하여 키워드추출 하기](https://hmkim312.github.io/posts/Keybert%EC%99%80_kiwi%ED%98%95%ED%83%9C%EC%86%8C%EB%B6%84%EC%84%9D%EA%B8%B0%EB%A5%BC_%EC%82%AC%EC%9A%A9%ED%95%98%EC%97%AC_%ED%82%A4%EC%9B%8C%EB%93%9C%EC%B6%94%EC%B6%9C_%ED%95%98%EA%B8%B0/)"
   ]
  },
  {
   "attachments": {},
   "cell_type": "markdown",
   "metadata": {},
   "source": [
    "## 설치\n",
    "- pip install keybert\n",
    "- pip install kiwipiepy\n",
    "- pip install transformers"
   ]
  },
  {
   "cell_type": "code",
   "execution_count": null,
   "metadata": {},
   "outputs": [],
   "source": [
    "from keybert import KeyBERT\n",
    "from kiwipiepy import Kiwi\n",
    "from transformers import BertModel\n",
    "\n",
    "model = BertModel.from_pretrained('skt/kobert-base-v1')\n",
    "kw_model = KeyBERT(model)\n",
    "\n",
    "text = \"\"\"서울 지진 대피소에 대한 데이터 분석을 위해서는 어떤 종류의 데이터가 필요할까요? 예를 들어, 서울시의 지진 대피소 위치, 수용 가능 인원, 대피소 내부 시설물, 대피소 이용 현황 등의 정보가 필요할 것입니다. 지진 대피소 위치 분석 예시: 지진 대피소 위치는 서울시 공공데이터 포털에서 제공하는 \"서울시 지진대피소 안내\" 데이터를 사용할 수 있습니다. 이 데이터셋에는 지진 대피소 명칭, 위치(주소), 좌표, 수용 인원, 관리 기관 등의 항목이 포함되어 있습니다. 이를 바탕으로 대피소 위치를 지도에 시각화하여 지진 발생 시 대피소가 필요한 지역을 파악할 수 있습니다. 대피소 이용 현황 분석 예시: 대피소 이용 현황은 서울시에서 제공하는 \"서울시 재난정보 실시간 수집 및 제공 서비스\" 데이터를 사용할 수 있습니다. 이 데이터셋에는 대피소 이용 현황(대피소 이용 가능 여부, 이용 중인 인원 수), 지진 발생 시 대피소 이용 현황 등의 정보가 포함되어 있습니다. 이를 바탕으로 대피소 이용 현황을 분석하여 인원이 많은 대피소를 파악하거나, 대피소 이용 가능 여부 등을 파악할 수 있습니다.\"\"\""
   ]
  },
  {
   "attachments": {},
   "cell_type": "markdown",
   "metadata": {},
   "source": [
    "### 기본활용"
   ]
  },
  {
   "cell_type": "code",
   "execution_count": 29,
   "metadata": {},
   "outputs": [
    {
     "name": "stderr",
     "output_type": "stream",
     "text": [
      "Downloading (…)lve/main/config.json: 100%|██████████| 535/535 [00:00<00:00, 82.3kB/s]\n",
      "Downloading pytorch_model.bin: 100%|██████████| 369M/369M [00:37<00:00, 9.97MB/s] \n",
      "Downloading (…)0fe39/.gitattributes: 100%|██████████| 968/968 [00:00<00:00, 156kB/s]\n",
      "Downloading (…)_Pooling/config.json: 100%|██████████| 190/190 [00:00<00:00, 115kB/s]\n",
      "Downloading (…)83e900fe39/README.md: 100%|██████████| 3.79k/3.79k [00:00<00:00, 3.06MB/s]\n",
      "Downloading (…)e900fe39/config.json: 100%|██████████| 645/645 [00:00<00:00, 549kB/s]\n",
      "Downloading (…)ce_transformers.json: 100%|██████████| 122/122 [00:00<00:00, 73.8kB/s]\n",
      "Downloading pytorch_model.bin: 100%|██████████| 471M/471M [00:56<00:00, 8.29MB/s] \n",
      "Downloading (…)nce_bert_config.json: 100%|██████████| 53.0/53.0 [00:00<00:00, 31.6kB/s]\n",
      "Downloading (…)tencepiece.bpe.model: 100%|██████████| 5.07M/5.07M [00:00<00:00, 13.4MB/s]\n",
      "Downloading (…)cial_tokens_map.json: 100%|██████████| 239/239 [00:00<00:00, 142kB/s]\n",
      "Downloading tokenizer.json: 100%|██████████| 9.08M/9.08M [00:01<00:00, 5.42MB/s]\n",
      "Downloading (…)okenizer_config.json: 100%|██████████| 480/480 [00:00<00:00, 677kB/s]\n",
      "Downloading unigram.json: 100%|██████████| 14.8M/14.8M [00:01<00:00, 13.8MB/s]\n",
      "Downloading (…)900fe39/modules.json: 100%|██████████| 229/229 [00:00<00:00, 120kB/s]\n"
     ]
    },
    {
     "data": {
      "text/plain": [
       "[('지진대피소', 0.4972),\n",
       " ('지진', 0.4423),\n",
       " ('공공데이터', 0.4249),\n",
       " ('서울', 0.4239),\n",
       " ('서울시에서', 0.3922),\n",
       " ('재난정보', 0.3739),\n",
       " ('서울시', 0.3665),\n",
       " ('데이터가', 0.325),\n",
       " ('데이터를', 0.3069),\n",
       " ('데이터', 0.3057)]"
      ]
     },
     "execution_count": 29,
     "metadata": {},
     "output_type": "execute_result"
    }
   ],
   "source": [
    "keywords = kw_model.extract_keywords(text, keyphrase_ngram_range=(1, 1), stop_words=None, top_n=10)\n",
    "keywords"
   ]
  },
  {
   "cell_type": "code",
   "execution_count": 30,
   "metadata": {},
   "outputs": [
    {
     "data": {
      "text/plain": [
       "[('서울시 지진대피소', 0.6382),\n",
       " ('서울시의 지진', 0.6199),\n",
       " ('서울 지진', 0.6039),\n",
       " ('데이터셋에는 지진', 0.5942),\n",
       " ('서울시 공공데이터', 0.561),\n",
       " ('서울시 재난정보', 0.5322),\n",
       " ('지진대피소', 0.4972),\n",
       " ('지진 대피소', 0.4953),\n",
       " ('예시 지진', 0.4769),\n",
       " ('시각화하여 지진', 0.474),\n",
       " ('위치는 서울시', 0.4725),\n",
       " ('지진대피소 안내', 0.4663),\n",
       " ('공공데이터 포털에서', 0.4621),\n",
       " ('지진 발생', 0.4522),\n",
       " ('제공하는 서울시', 0.449),\n",
       " ('인원 지진', 0.4429),\n",
       " ('지진', 0.4423),\n",
       " ('것입니다 지진', 0.4345),\n",
       " ('공공데이터', 0.4249),\n",
       " ('서울', 0.4239)]"
      ]
     },
     "execution_count": 30,
     "metadata": {},
     "output_type": "execute_result"
    }
   ],
   "source": [
    "keywords = kw_model.extract_keywords(text, keyphrase_ngram_range=(1, 2), stop_words=None, top_n=20)\n",
    "keywords"
   ]
  },
  {
   "attachments": {},
   "cell_type": "markdown",
   "metadata": {},
   "source": [
    "### kiwi 로 명사 추출"
   ]
  },
  {
   "cell_type": "code",
   "execution_count": 31,
   "metadata": {},
   "outputs": [
    {
     "data": {
      "text/plain": [
       "[([Token(form='서울', tag='NNP', start=0, len=2),\n",
       "   Token(form='지진', tag='NNG', start=3, len=2),\n",
       "   Token(form='대피소', tag='NNG', start=6, len=3),\n",
       "   Token(form='에', tag='JKB', start=9, len=1),\n",
       "   Token(form='대하', tag='VV', start=11, len=2),\n",
       "   Token(form='ᆫ', tag='ETM', start=12, len=1),\n",
       "   Token(form='데이터', tag='NNG', start=14, len=3),\n",
       "   Token(form='분석', tag='NNG', start=18, len=2),\n",
       "   Token(form='을', tag='JKO', start=20, len=1),\n",
       "   Token(form='위하', tag='VV', start=22, len=2),\n",
       "   Token(form='어서', tag='EC', start=23, len=2),\n",
       "   Token(form='는', tag='JX', start=25, len=1),\n",
       "   Token(form='어떤', tag='MM', start=27, len=2),\n",
       "   Token(form='종류', tag='NNG', start=30, len=2),\n",
       "   Token(form='의', tag='JKG', start=32, len=1),\n",
       "   Token(form='데이터', tag='NNG', start=34, len=3),\n",
       "   Token(form='가', tag='JKS', start=37, len=1),\n",
       "   Token(form='필요', tag='NNG', start=39, len=2),\n",
       "   Token(form='하', tag='XSA', start=41, len=1),\n",
       "   Token(form='ᆯ까요', tag='EF', start=41, len=3),\n",
       "   Token(form='?', tag='SF', start=44, len=1),\n",
       "   Token(form='예', tag='NNG', start=46, len=1),\n",
       "   Token(form='를', tag='JKO', start=47, len=1),\n",
       "   Token(form='들', tag='VV', start=49, len=1),\n",
       "   Token(form='어', tag='EC', start=50, len=1),\n",
       "   Token(form=',', tag='SP', start=51, len=1),\n",
       "   Token(form='서울시', tag='NNP', start=53, len=3),\n",
       "   Token(form='의', tag='JKG', start=56, len=1),\n",
       "   Token(form='지진', tag='NNG', start=58, len=2),\n",
       "   Token(form='대피소', tag='NNG', start=61, len=3),\n",
       "   Token(form='위치', tag='NNG', start=65, len=2),\n",
       "   Token(form=',', tag='SP', start=67, len=1),\n",
       "   Token(form='수용', tag='NNG', start=69, len=2),\n",
       "   Token(form='가능', tag='NNG', start=72, len=2),\n",
       "   Token(form='인원', tag='NNG', start=75, len=2),\n",
       "   Token(form=',', tag='SP', start=77, len=1),\n",
       "   Token(form='대피소', tag='NNG', start=79, len=3),\n",
       "   Token(form='내부', tag='NNG', start=83, len=2),\n",
       "   Token(form='시설물', tag='NNG', start=86, len=3),\n",
       "   Token(form=',', tag='SP', start=89, len=1),\n",
       "   Token(form='대피소', tag='NNG', start=91, len=3),\n",
       "   Token(form='이용', tag='NNG', start=95, len=2),\n",
       "   Token(form='현황', tag='NNG', start=98, len=2),\n",
       "   Token(form='등', tag='NNB', start=101, len=1),\n",
       "   Token(form='의', tag='JKG', start=102, len=1),\n",
       "   Token(form='정보', tag='NNG', start=104, len=2),\n",
       "   Token(form='가', tag='JKS', start=106, len=1),\n",
       "   Token(form='필요', tag='NNG', start=108, len=2),\n",
       "   Token(form='하', tag='XSA', start=110, len=1),\n",
       "   Token(form='ᆯ', tag='ETM', start=110, len=1),\n",
       "   Token(form='것', tag='NNB', start=112, len=1),\n",
       "   Token(form='이', tag='VCP', start=113, len=1),\n",
       "   Token(form='ᆸ니다', tag='EF', start=113, len=3),\n",
       "   Token(form='.', tag='SF', start=116, len=1),\n",
       "   Token(form='지진', tag='NNG', start=118, len=2),\n",
       "   Token(form='대피소', tag='NNG', start=121, len=3),\n",
       "   Token(form='위치', tag='NNG', start=125, len=2),\n",
       "   Token(form='분석', tag='NNG', start=128, len=2),\n",
       "   Token(form='예시', tag='NNG', start=131, len=2),\n",
       "   Token(form=':', tag='SP', start=133, len=1),\n",
       "   Token(form='지진', tag='NNG', start=135, len=2),\n",
       "   Token(form='대피소', tag='NNG', start=138, len=3),\n",
       "   Token(form='위치', tag='NNG', start=142, len=2),\n",
       "   Token(form='는', tag='JX', start=144, len=1),\n",
       "   Token(form='서울시', tag='NNP', start=146, len=3),\n",
       "   Token(form='공공', tag='NNG', start=150, len=2),\n",
       "   Token(form='데이터', tag='NNG', start=152, len=3),\n",
       "   Token(form='포털', tag='NNG', start=156, len=2),\n",
       "   Token(form='에서', tag='JKB', start=158, len=2),\n",
       "   Token(form='제공', tag='NNG', start=161, len=2),\n",
       "   Token(form='하', tag='XSV', start=163, len=1),\n",
       "   Token(form='는', tag='ETM', start=164, len=1),\n",
       "   Token(form='\"', tag='SSO', start=166, len=1),\n",
       "   Token(form='서울시', tag='NNP', start=167, len=3),\n",
       "   Token(form='지진', tag='NNG', start=171, len=2),\n",
       "   Token(form='대피소', tag='NNG', start=173, len=3),\n",
       "   Token(form='안내', tag='NNG', start=177, len=2),\n",
       "   Token(form='\"', tag='SSC', start=179, len=1),\n",
       "   Token(form='데이터', tag='NNG', start=181, len=3),\n",
       "   Token(form='를', tag='JKO', start=184, len=1),\n",
       "   Token(form='사용', tag='NNG', start=186, len=2),\n",
       "   Token(form='하', tag='XSV', start=188, len=1),\n",
       "   Token(form='ᆯ', tag='ETM', start=188, len=1),\n",
       "   Token(form='수', tag='NNB', start=190, len=1),\n",
       "   Token(form='있', tag='VA', start=192, len=1),\n",
       "   Token(form='습니다', tag='EF', start=193, len=3),\n",
       "   Token(form='.', tag='SF', start=196, len=1),\n",
       "   Token(form='이', tag='MM', start=198, len=1),\n",
       "   Token(form='데이터', tag='NNG', start=200, len=3),\n",
       "   Token(form='셋', tag='NR', start=203, len=1),\n",
       "   Token(form='에', tag='JKB', start=204, len=1),\n",
       "   Token(form='는', tag='JX', start=205, len=1),\n",
       "   Token(form='지진', tag='NNG', start=207, len=2),\n",
       "   Token(form='대피소', tag='NNG', start=210, len=3),\n",
       "   Token(form='명칭', tag='NNG', start=214, len=2),\n",
       "   Token(form=',', tag='SP', start=216, len=1),\n",
       "   Token(form='위치', tag='NNG', start=218, len=2),\n",
       "   Token(form='(', tag='SSO', start=220, len=1),\n",
       "   Token(form='주소', tag='NNG', start=221, len=2),\n",
       "   Token(form=')', tag='SSC', start=223, len=1),\n",
       "   Token(form=',', tag='SP', start=224, len=1),\n",
       "   Token(form='좌표', tag='NNG', start=226, len=2),\n",
       "   Token(form=',', tag='SP', start=228, len=1),\n",
       "   Token(form='수용', tag='NNG', start=230, len=2),\n",
       "   Token(form='인원', tag='NNG', start=233, len=2),\n",
       "   Token(form=',', tag='SP', start=235, len=1),\n",
       "   Token(form='관리', tag='NNG', start=237, len=2),\n",
       "   Token(form='기관', tag='NNG', start=240, len=2),\n",
       "   Token(form='등', tag='NNB', start=243, len=1),\n",
       "   Token(form='의', tag='JKG', start=244, len=1),\n",
       "   Token(form='항목', tag='NNG', start=246, len=2),\n",
       "   Token(form='이', tag='JKS', start=248, len=1),\n",
       "   Token(form='포함', tag='NNG', start=250, len=2),\n",
       "   Token(form='되', tag='XSV', start=252, len=1),\n",
       "   Token(form='어', tag='EC', start=253, len=1),\n",
       "   Token(form='있', tag='VX', start=255, len=1),\n",
       "   Token(form='습니다', tag='EF', start=256, len=3),\n",
       "   Token(form='.', tag='SF', start=259, len=1),\n",
       "   Token(form='이', tag='NP', start=261, len=1),\n",
       "   Token(form='를', tag='JKO', start=262, len=1),\n",
       "   Token(form='바탕', tag='NNG', start=264, len=2),\n",
       "   Token(form='으로', tag='JKB', start=266, len=2),\n",
       "   Token(form='대피소', tag='NNG', start=269, len=3),\n",
       "   Token(form='위치', tag='NNG', start=273, len=2),\n",
       "   Token(form='를', tag='JKO', start=275, len=1),\n",
       "   Token(form='지도', tag='NNG', start=277, len=2),\n",
       "   Token(form='에', tag='JKB', start=279, len=1),\n",
       "   Token(form='시각', tag='NNG', start=281, len=2),\n",
       "   Token(form='화', tag='XSN', start=283, len=1),\n",
       "   Token(form='하', tag='XSV', start=284, len=1),\n",
       "   Token(form='어', tag='EC', start=285, len=1),\n",
       "   Token(form='지진', tag='NNG', start=287, len=2),\n",
       "   Token(form='발생', tag='NNG', start=290, len=2),\n",
       "   Token(form='시', tag='NNB', start=293, len=1),\n",
       "   Token(form='대피소', tag='NNG', start=295, len=3),\n",
       "   Token(form='가', tag='JKS', start=298, len=1),\n",
       "   Token(form='필요', tag='NNG', start=300, len=2),\n",
       "   Token(form='하', tag='XSA', start=302, len=1),\n",
       "   Token(form='ᆫ', tag='ETM', start=302, len=1),\n",
       "   Token(form='지역', tag='NNG', start=304, len=2),\n",
       "   Token(form='을', tag='JKO', start=306, len=1),\n",
       "   Token(form='파악', tag='NNG', start=308, len=2),\n",
       "   Token(form='하', tag='XSV', start=310, len=1),\n",
       "   Token(form='ᆯ', tag='ETM', start=310, len=1),\n",
       "   Token(form='수', tag='NNB', start=312, len=1),\n",
       "   Token(form='있', tag='VA', start=314, len=1),\n",
       "   Token(form='습니다', tag='EF', start=315, len=3),\n",
       "   Token(form='.', tag='SF', start=318, len=1),\n",
       "   Token(form='대피소', tag='NNG', start=320, len=3),\n",
       "   Token(form='이용', tag='NNG', start=324, len=2),\n",
       "   Token(form='현황', tag='NNG', start=327, len=2),\n",
       "   Token(form='분석', tag='NNG', start=330, len=2),\n",
       "   Token(form='예시', tag='NNG', start=333, len=2),\n",
       "   Token(form=':', tag='SP', start=335, len=1),\n",
       "   Token(form='대피소', tag='NNG', start=337, len=3),\n",
       "   Token(form='이용', tag='NNG', start=341, len=2),\n",
       "   Token(form='현황', tag='NNG', start=344, len=2),\n",
       "   Token(form='은', tag='JX', start=346, len=1),\n",
       "   Token(form='서울시', tag='NNP', start=348, len=3),\n",
       "   Token(form='에서', tag='JKB', start=351, len=2),\n",
       "   Token(form='제공', tag='NNG', start=354, len=2),\n",
       "   Token(form='하', tag='XSV', start=356, len=1),\n",
       "   Token(form='는', tag='ETM', start=357, len=1),\n",
       "   Token(form='\"', tag='SSO', start=359, len=1),\n",
       "   Token(form='서울시', tag='NNP', start=360, len=3),\n",
       "   Token(form='재난', tag='NNG', start=364, len=2),\n",
       "   Token(form='정보', tag='NNG', start=366, len=2),\n",
       "   Token(form='실시간', tag='NNG', start=369, len=3),\n",
       "   Token(form='수집', tag='NNG', start=373, len=2),\n",
       "   Token(form='및', tag='MAG', start=376, len=1),\n",
       "   Token(form='제공', tag='NNG', start=378, len=2),\n",
       "   Token(form='서비스', tag='NNG', start=381, len=3),\n",
       "   Token(form='\"', tag='SSC', start=384, len=1),\n",
       "   Token(form='데이터', tag='NNG', start=386, len=3),\n",
       "   Token(form='를', tag='JKO', start=389, len=1),\n",
       "   Token(form='사용', tag='NNG', start=391, len=2),\n",
       "   Token(form='하', tag='XSV', start=393, len=1),\n",
       "   Token(form='ᆯ', tag='ETM', start=393, len=1),\n",
       "   Token(form='수', tag='NNB', start=395, len=1),\n",
       "   Token(form='있', tag='VA', start=397, len=1),\n",
       "   Token(form='습니다', tag='EF', start=398, len=3),\n",
       "   Token(form='.', tag='SF', start=401, len=1),\n",
       "   Token(form='이', tag='MM', start=403, len=1),\n",
       "   Token(form='데이터', tag='NNG', start=405, len=3),\n",
       "   Token(form='셋', tag='NR', start=408, len=1),\n",
       "   Token(form='에', tag='JKB', start=409, len=1),\n",
       "   Token(form='는', tag='JX', start=410, len=1),\n",
       "   Token(form='대피소', tag='NNG', start=412, len=3),\n",
       "   Token(form='이용', tag='NNG', start=416, len=2),\n",
       "   Token(form='현황', tag='NNG', start=419, len=2),\n",
       "   Token(form='(', tag='SSO', start=421, len=1),\n",
       "   Token(form='대피소', tag='NNG', start=422, len=3),\n",
       "   Token(form='이용', tag='NNG', start=426, len=2),\n",
       "   Token(form='가능', tag='NNG', start=429, len=2),\n",
       "   Token(form='여부', tag='NNG', start=432, len=2),\n",
       "   Token(form=',', tag='SP', start=434, len=1),\n",
       "   Token(form='이용', tag='NNG', start=436, len=2),\n",
       "   Token(form='중', tag='NNB', start=439, len=1),\n",
       "   Token(form='이', tag='VCP', start=440, len=1),\n",
       "   Token(form='ᆫ', tag='ETM', start=440, len=1),\n",
       "   Token(form='인원', tag='NNG', start=442, len=2),\n",
       "   Token(form='수', tag='NNG', start=445, len=1),\n",
       "   Token(form=')', tag='SSC', start=446, len=1),\n",
       "   Token(form=',', tag='SP', start=447, len=1),\n",
       "   Token(form='지진', tag='NNG', start=449, len=2),\n",
       "   Token(form='발생', tag='NNG', start=452, len=2),\n",
       "   Token(form='시', tag='NNB', start=455, len=1),\n",
       "   Token(form='대피소', tag='NNG', start=457, len=3),\n",
       "   Token(form='이용', tag='NNG', start=461, len=2),\n",
       "   Token(form='현황', tag='NNG', start=464, len=2),\n",
       "   Token(form='등', tag='NNB', start=467, len=1),\n",
       "   Token(form='의', tag='JKG', start=468, len=1),\n",
       "   Token(form='정보', tag='NNG', start=470, len=2),\n",
       "   Token(form='가', tag='JKS', start=472, len=1),\n",
       "   Token(form='포함', tag='NNG', start=474, len=2),\n",
       "   Token(form='되', tag='XSV', start=476, len=1),\n",
       "   Token(form='어', tag='EC', start=477, len=1),\n",
       "   Token(form='있', tag='VX', start=479, len=1),\n",
       "   Token(form='습니다', tag='EF', start=480, len=3),\n",
       "   Token(form='.', tag='SF', start=483, len=1),\n",
       "   Token(form='이', tag='NP', start=485, len=1),\n",
       "   Token(form='를', tag='JKO', start=486, len=1),\n",
       "   Token(form='바탕', tag='NNG', start=488, len=2),\n",
       "   Token(form='으로', tag='JKB', start=490, len=2),\n",
       "   Token(form='대피소', tag='NNG', start=493, len=3),\n",
       "   Token(form='이용', tag='NNG', start=497, len=2),\n",
       "   Token(form='현황', tag='NNG', start=500, len=2),\n",
       "   Token(form='을', tag='JKO', start=502, len=1),\n",
       "   Token(form='분석', tag='NNG', start=504, len=2),\n",
       "   Token(form='하', tag='XSV', start=506, len=1),\n",
       "   Token(form='어', tag='EC', start=507, len=1),\n",
       "   Token(form='인원', tag='NNG', start=509, len=2),\n",
       "   Token(form='이', tag='JKS', start=511, len=1),\n",
       "   Token(form='많', tag='VA', start=513, len=1),\n",
       "   Token(form='은', tag='ETM', start=514, len=1),\n",
       "   Token(form='대피소', tag='NNG', start=516, len=3),\n",
       "   Token(form='를', tag='JKO', start=519, len=1),\n",
       "   Token(form='파악', tag='NNG', start=521, len=2),\n",
       "   Token(form='하', tag='XSV', start=523, len=1),\n",
       "   Token(form='거나', tag='EC', start=524, len=2),\n",
       "   Token(form=',', tag='SP', start=526, len=1),\n",
       "   Token(form='대피소', tag='NNG', start=528, len=3),\n",
       "   Token(form='이용', tag='NNG', start=532, len=2),\n",
       "   Token(form='가능', tag='NNG', start=535, len=2),\n",
       "   Token(form='여부', tag='NNG', start=538, len=2),\n",
       "   Token(form='등', tag='NNB', start=541, len=1),\n",
       "   Token(form='을', tag='JKO', start=542, len=1),\n",
       "   Token(form='파악', tag='NNG', start=544, len=2),\n",
       "   Token(form='하', tag='XSV', start=546, len=1),\n",
       "   Token(form='ᆯ', tag='ETM', start=546, len=1),\n",
       "   Token(form='수', tag='NNB', start=548, len=1),\n",
       "   Token(form='있', tag='VA', start=550, len=1),\n",
       "   Token(form='습니다', tag='EF', start=551, len=3),\n",
       "   Token(form='.', tag='SF', start=554, len=1)],\n",
       "  -1586.2225341796875)]"
      ]
     },
     "execution_count": 31,
     "metadata": {},
     "output_type": "execute_result"
    }
   ],
   "source": [
    "kiwi = Kiwi()\n",
    "kiwi.analyze(text)"
   ]
  },
  {
   "cell_type": "code",
   "execution_count": 33,
   "metadata": {},
   "outputs": [
    {
     "data": {
      "text/plain": [
       "'서울 지진 대피소 데이터 분석 종류 데이터 필요 예 서울시 지진 대피소 위치 수용 가능 인원 대피소 내부 시설물 대피소 이용 현황 등 정보 필요 것 지진 대피소 위치 분석 예시 지진 대피소 위치 서울시 공공 데이터 포털 제공 서울시 지진 대피소 안내 데이터 사용 수 데이터 지진 대피소 명칭 위치 주소 좌표 수용 인원 관리 기관 등 항목 포함 바탕 대피소 위치 지도 시각 지진 발생 시 대피소 필요 지역 파악 수 대피소 이용 현황 분석 예시 대피소 이용 현황 서울시 제공 서울시 재난 정보 실시간 수집 제공 서비스 데이터 사용 수 데이터 대피소 이용 현황 대피소 이용 가능 여부 이용 중 인원 수 지진 발생 시 대피소 이용 현황 등 정보 포함 바탕 대피소 이용 현황 분석 인원 대피소 파악 대피소 이용 가능 여부 등 파악 수'"
      ]
     },
     "execution_count": 33,
     "metadata": {},
     "output_type": "execute_result"
    }
   ],
   "source": [
    "kiwi = Kiwi()\n",
    "result_text = ''\n",
    "for sentence in kiwi.analyze(text):\n",
    "    nouns = []\n",
    "    for token in sentence[0]:\n",
    "        if token.tag.startswith('NN'):\n",
    "            nouns.append(token.form)\n",
    "    if nouns:\n",
    "        result_text = ' '.join(nouns)\n",
    "result_text"
   ]
  },
  {
   "cell_type": "code",
   "execution_count": 34,
   "metadata": {},
   "outputs": [
    {
     "data": {
      "text/plain": [
       "'서울 지진 대피소 데이터 분석 종류 데이터 필요 예 서울시 지진 대피소 위치 수용 가능 인원 대피소 내부 시설물 대피소 이용 현황 등 정보 필요 것 지진 대피소 위치 분석 예시 지진 대피소 위치 서울시 공공 데이터 포털 제공 서울시 지진 대피소 안내 데이터 사용 수 데이터 지진 대피소 명칭 위치 주소 좌표 수용 인원 관리 기관 등 항목 포함 바탕 대피소 위치 지도 시각 지진 발생 시 대피소 필요 지역 파악 수 대피소 이용 현황 분석 예시 대피소 이용 현황 서울시 제공 서울시 재난 정보 실시간 수집 제공 서비스 데이터 사용 수 데이터 대피소 이용 현황 대피소 이용 가능 여부 이용 중 인원 수 지진 발생 시 대피소 이용 현황 등 정보 포함 바탕 대피소 이용 현황 분석 인원 대피소 파악 대피소 이용 가능 여부 등 파악 수'"
      ]
     },
     "execution_count": 34,
     "metadata": {},
     "output_type": "execute_result"
    }
   ],
   "source": [
    "kiwi = Kiwi()\n",
    "nouns_list = []\n",
    "for sentence in kiwi.analyze(text):\n",
    "    nouns = [token.form for token in sentence[0] if token.tag.startswith('NN')]\n",
    "    if nouns:\n",
    "        nouns_list.extend(nouns)\n",
    "result_text = ' '.join(nouns_list)\n",
    "result_text"
   ]
  },
  {
   "cell_type": "code",
   "execution_count": 35,
   "metadata": {},
   "outputs": [
    {
     "data": {
      "text/plain": [
       "[('데이터', 0.4451),\n",
       " ('지진', 0.4023),\n",
       " ('서울', 0.3941),\n",
       " ('정보', 0.3515),\n",
       " ('서울시', 0.3509),\n",
       " ('지도', 0.3341),\n",
       " ('분석', 0.3061),\n",
       " ('재난', 0.245),\n",
       " ('시설물', 0.2277),\n",
       " ('지역', 0.2274),\n",
       " ('공공', 0.2011),\n",
       " ('포털', 0.1774),\n",
       " ('사용', 0.1751),\n",
       " ('이용', 0.171),\n",
       " ('위치', 0.1682),\n",
       " ('기관', 0.1638),\n",
       " ('수집', 0.1616),\n",
       " ('실시간', 0.1505),\n",
       " ('발생', 0.1442),\n",
       " ('주소', 0.1425)]"
      ]
     },
     "execution_count": 35,
     "metadata": {},
     "output_type": "execute_result"
    }
   ],
   "source": [
    "keywords = kw_model.extract_keywords(result_text, keyphrase_ngram_range=(1, 1), stop_words=None, top_n=20)\n",
    "keywords"
   ]
  },
  {
   "cell_type": "code",
   "execution_count": 168,
   "metadata": {},
   "outputs": [
    {
     "data": {
      "text/plain": [
       "[('데이터', 0.4451),\n",
       " ('지진', 0.4023),\n",
       " ('서울', 0.3941),\n",
       " ('정보', 0.3515),\n",
       " ('서울시', 0.3509),\n",
       " ('지도', 0.3341),\n",
       " ('분석', 0.3061),\n",
       " ('재난', 0.245),\n",
       " ('시설물', 0.2277),\n",
       " ('지역', 0.2274),\n",
       " ('공공', 0.2011),\n",
       " ('포털', 0.1774),\n",
       " ('사용', 0.1751),\n",
       " ('이용', 0.171),\n",
       " ('위치', 0.1682),\n",
       " ('기관', 0.1638),\n",
       " ('수집', 0.1616),\n",
       " ('실시간', 0.1505),\n",
       " ('발생', 0.1442),\n",
       " ('주소', 0.1425),\n",
       " ('항목', 0.1405),\n",
       " ('대피소', 0.1387),\n",
       " ('관리', 0.1372),\n",
       " ('수용', 0.1287),\n",
       " ('서비스', 0.1249),\n",
       " ('안내', 0.1172),\n",
       " ('필요', 0.117),\n",
       " ('포함', 0.1156),\n",
       " ('시각', 0.1147),\n",
       " ('내부', 0.1106)]"
      ]
     },
     "execution_count": 168,
     "metadata": {},
     "output_type": "execute_result"
    }
   ],
   "source": [
    "keywords = kw_model.extract_keywords(result_text, keyphrase_ngram_range=(1, 1), stop_words=None, top_n=30)\n",
    "keywords"
   ]
  },
  {
   "cell_type": "code",
   "execution_count": 36,
   "metadata": {},
   "outputs": [],
   "source": [
    "test2=\"\"\"한국 산불 데이터를 검색해보면 국립환경과학원의 \"산불발생 현황\" 데이터를 활용할 수 있습니다. 이 데이터는 2011년부터 2020년까지의 산불 발생 현황을 지역, 월별, 원인별, 피해규모별 등 다양한 항목으로 제공합니다. 데이터는 엑셀 파일 형식으로 제공되어 있으며, 한국환경공단 대기오염실시간조회서비스에서 제공하는 지역별 대기오염 정보와 연계하여 활용할 수 있습니다. 데이터 검색을 원하시면 국립환경과학원 홈페이지를 방문해보시면 됩니다.\"\"\""
   ]
  },
  {
   "cell_type": "code",
   "execution_count": 43,
   "metadata": {},
   "outputs": [
    {
     "data": {
      "text/plain": [
       "[('한국환경공단', 0.5216),\n",
       " ('한국', 0.4415),\n",
       " ('국립환경과학원', 0.4394),\n",
       " ('데이터', 0.3231),\n",
       " ('오염', 0.295),\n",
       " ('정보', 0.2885),\n",
       " ('산불', 0.284),\n",
       " ('검색', 0.255),\n",
       " ('지역', 0.2261),\n",
       " ('홈페이지', 0.2082),\n",
       " ('활용', 0.2066),\n",
       " ('발생', 0.2039),\n",
       " ('다양', 0.1779),\n",
       " ('항목', 0.1627),\n",
       " ('파일', 0.1591),\n",
       " ('제공', 0.1506),\n",
       " ('피해', 0.141),\n",
       " ('원인', 0.1406),\n",
       " ('형식', 0.1336),\n",
       " ('대기', 0.13)]"
      ]
     },
     "execution_count": 43,
     "metadata": {},
     "output_type": "execute_result"
    }
   ],
   "source": [
    "kiwi = Kiwi()\n",
    "nouns_list = []\n",
    "for sentence in kiwi.analyze(test2):\n",
    "    nouns = [token.form for token in sentence[0] if token.tag.startswith('NN')]\n",
    "    if nouns:\n",
    "        nouns_list.extend(nouns)\n",
    "result_text = ' '.join(nouns_list)\n",
    "keywords = kw_model.extract_keywords(result_text, keyphrase_ngram_range=(1, 1), stop_words=None, top_n=20)\n",
    "keyword_list = ' '.join([word for word, r in keywords])\n",
    "\n",
    "keyword_list"
   ]
  },
  {
   "cell_type": "code",
   "execution_count": 44,
   "metadata": {},
   "outputs": [
    {
     "data": {
      "text/plain": [
       "'한국환경공단 한국 국립환경과학원 데이터 오염 정보 산불 검색 지역 홈페이지 활용 발생 다양 항목 파일 제공 피해 원인 형식 대기'"
      ]
     },
     "execution_count": 44,
     "metadata": {},
     "output_type": "execute_result"
    }
   ],
   "source": [
    "keywords_text"
   ]
  }
 ],
 "metadata": {
  "kernelspec": {
   "display_name": "chat_venv",
   "language": "python",
   "name": "python3"
  },
  "language_info": {
   "codemirror_mode": {
    "name": "ipython",
    "version": 3
   },
   "file_extension": ".py",
   "mimetype": "text/x-python",
   "name": "python",
   "nbconvert_exporter": "python",
   "pygments_lexer": "ipython3",
   "version": "3.8.16"
  },
  "orig_nbformat": 4
 },
 "nbformat": 4,
 "nbformat_minor": 2
}
