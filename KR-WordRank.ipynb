{
 "cells": [
  {
   "attachments": {},
   "cell_type": "markdown",
   "metadata": {},
   "source": [
    "# KR-WordRank\n",
    "\n",
    "- blog: https://chaeeunsong.tistory.com/25\n",
    "- 설치: pip install krwordrank"
   ]
  },
  {
   "cell_type": "code",
   "execution_count": 8,
   "metadata": {},
   "outputs": [],
   "source": [
    "text = \"\"\"서울 지진 대피소에 대한 데이터 분석을 위해서는 어떤 종류의 데이터가 필요할까요? 예를 들어, 서울시의 지진 대피소 위치, 수용 가능 인원, 대피소 내부 시설물, 대피소 이용 현황 등의 정보가 필요할 것입니다. 지진 대피소 위치 분석 예시: 지진 대피소 위치는 서울시 공공데이터 포털에서 제공하는 \"서울시 지진대피소 안내\" 데이터를 사용할 수 있습니다. 이 데이터셋에는 지진 대피소 명칭, 위치(주소), 좌표, 수용 인원, 관리 기관 등의 항목이 포함되어 있습니다. 이를 바탕으로 대피소 위치를 지도에 시각화하여 지진 발생 시 대피소가 필요한 지역을 파악할 수 있습니다. 대피소 이용 현황 분석 예시: 대피소 이용 현황은 서울시에서 제공하는 \"서울시 재난정보 실시간 수집 및 제공 서비스\" 데이터를 사용할 수 있습니다. 이 데이터셋에는 대피소 이용 현황(대피소 이용 가능 여부, 이용 중인 인원 수), 지진 발생 시 대피소 이용 현황 등의 정보가 포함되어 있습니다. 이를 바탕으로 대피소 이용 현황을 분석하여 인원이 많은 대피소를 파악하거나, 대피소 이용 가능 여부 등을 파악할 수 있습니다.\"\"\"\n",
    "\n",
    "import re\n",
    "\n",
    "def split_sentences(text):\n",
    "    sentences = text.replace(\". \",\".\")\n",
    "    sentences = re.sub(r'([^\\n\\s\\.\\?!]+[^\\n\\.\\?!]*[\\.\\?!])', r'\\1\\n', text).strip().split(\"\\n\")\n",
    "    return sentences"
   ]
  },
  {
   "cell_type": "code",
   "execution_count": 9,
   "metadata": {},
   "outputs": [
    {
     "data": {
      "text/plain": [
       "['서울 지진 대피소에 대한 데이터 분석을 위해서는 어떤 종류의 데이터가 필요할까요?',\n",
       " ' 예를 들어, 서울시의 지진 대피소 위치, 수용 가능 인원, 대피소 내부 시설물, 대피소 이용 현황 등의 정보가 필요할 것입니다.',\n",
       " ' 지진 대피소 위치 분석 예시: 지진 대피소 위치는 서울시 공공데이터 포털에서 제공하는 \"서울시 지진대피소 안내\" 데이터를 사용할 수 있습니다.',\n",
       " ' 이 데이터셋에는 지진 대피소 명칭, 위치(주소), 좌표, 수용 인원, 관리 기관 등의 항목이 포함되어 있습니다.',\n",
       " ' 이를 바탕으로 대피소 위치를 지도에 시각화하여 지진 발생 시 대피소가 필요한 지역을 파악할 수 있습니다.',\n",
       " ' 대피소 이용 현황 분석 예시: 대피소 이용 현황은 서울시에서 제공하는 \"서울시 재난정보 실시간 수집 및 제공 서비스\" 데이터를 사용할 수 있습니다.',\n",
       " ' 이 데이터셋에는 대피소 이용 현황(대피소 이용 가능 여부, 이용 중인 인원 수), 지진 발생 시 대피소 이용 현황 등의 정보가 포함되어 있습니다.',\n",
       " ' 이를 바탕으로 대피소 이용 현황을 분석하여 인원이 많은 대피소를 파악하거나, 대피소 이용 가능 여부 등을 파악할 수 있습니다.']"
      ]
     },
     "execution_count": 9,
     "metadata": {},
     "output_type": "execute_result"
    }
   ],
   "source": [
    "sentence_list = split_sentences(text)\n",
    "sentence_list"
   ]
  },
  {
   "attachments": {},
   "cell_type": "markdown",
   "metadata": {},
   "source": [
    "## keyword extraction with KR-WordRank"
   ]
  },
  {
   "cell_type": "code",
   "execution_count": 14,
   "metadata": {},
   "outputs": [
    {
     "data": {
      "text/plain": [
       "{'대피소': 2.480061775539989,\n",
       " '이용': 1.7939838969206274,\n",
       " '지진': 1.515072584015925,\n",
       " '있습': 0.9170504843142294,\n",
       " '위치': 0.7749309502142687,\n",
       " '현황': 0.549216591404361,\n",
       " '데이터': 0.4937745022644567}"
      ]
     },
     "execution_count": 14,
     "metadata": {},
     "output_type": "execute_result"
    }
   ],
   "source": [
    "from krwordrank.sentence import summarize_with_sentences\n",
    "keywords, sents = summarize_with_sentences(\n",
    "                                        sentence_list, \n",
    "                                        num_keywords=100, \n",
    "                                        num_keysents=10\n",
    "                                        )\n",
    "keywords"
   ]
  },
  {
   "cell_type": "code",
   "execution_count": 17,
   "metadata": {},
   "outputs": [
    {
     "data": {
      "text/plain": [
       "{'대피소': 2.542697763677561,\n",
       " '이용': 1.8442006255832877,\n",
       " '지진': 1.4718570016004837,\n",
       " '있습': 0.9303196425474177,\n",
       " '위치': 0.7895363610278668,\n",
       " '현황': 0.5586271643249942,\n",
       " '데이터': 0.5032500619050018}"
      ]
     },
     "execution_count": 17,
     "metadata": {},
     "output_type": "execute_result"
    }
   ],
   "source": [
    "#문장 안쪼갠 버전\n",
    "from krwordrank.word import summarize_with_keywords\n",
    "keywords = summarize_with_keywords([text])\n",
    "keywords"
   ]
  },
  {
   "cell_type": "code",
   "execution_count": 18,
   "metadata": {},
   "outputs": [
    {
     "name": "stdout",
     "output_type": "stream",
     "text": [
      "     대피소:\t5.2067\n",
      "      지진:\t3.4876\n",
      "      이용:\t3.0852\n",
      "      서울:\t2.2115\n",
      "    제공하는:\t2.1615\n",
      "    \"서울시:\t2.0838\n",
      "    데이터를:\t1.7720\n",
      "      등의:\t1.6669\n",
      "     필요할:\t1.6573\n",
      "      분석:\t1.5067\n",
      "      이를:\t1.4672\n",
      "    포털에서:\t1.4602\n",
      "     좌표,:\t1.4542\n",
      "     명칭,:\t1.4486\n",
      "      인원:\t1.4172\n",
      "     지도에:\t1.3623\n",
      "      현황:\t1.3579\n",
      "   있습니다.:\t1.3497\n",
      "      어떤:\t1.3427\n",
      "    포함되어:\t1.3379\n",
      "      수용:\t1.2541\n",
      "      위치:\t1.2489\n",
      "      예를:\t1.2096\n",
      "     정보가:\t1.1898\n",
      "     실시간:\t1.1753\n",
      "      파악:\t1.1713\n",
      "      가능:\t1.1386\n",
      "      대한:\t1.0861\n",
      "     안내\":\t1.0349\n",
      "     사용할:\t1.0097\n",
      "      내부:\t1.0062\n",
      "    위해서는:\t0.9975\n",
      "     지역을:\t0.9897\n",
      "      수집:\t0.9807\n",
      "      많은:\t0.9166\n",
      "     종류의:\t0.9032\n",
      "     항목이:\t0.8982\n",
      "      관리:\t0.8899\n",
      "    서비스\":\t0.8751\n",
      "   시각화하여:\t0.8628\n",
      "     예시::\t0.8575\n",
      "   것입니다.:\t0.8419\n",
      "      등을:\t0.8313\n",
      "     들어,:\t0.8281\n",
      "      여부:\t0.8045\n",
      "      바탕:\t0.8042\n",
      "      기관:\t0.8027\n",
      "      공공:\t0.7949\n",
      "      재난:\t0.7912\n",
      "      시설:\t0.7868\n",
      "     수),:\t0.7597\n",
      "      중인:\t0.6385\n",
      "      발생:\t0.6137\n"
     ]
    }
   ],
   "source": [
    "from krwordrank.word import KRWordRank\n",
    "\n",
    "min_count = 1   # 단어의 최소 출현 빈도수 (그래프 생성 시)\n",
    "max_length = 10 # 단어의 최대 길이\n",
    "wordrank_extractor = KRWordRank(min_count=min_count, max_length=max_length)\n",
    "beta = 0.5    # PageRank의 decaying factor beta\n",
    "max_iter = 20\n",
    "texts = sentence_list\n",
    "keywords, rank, graph = wordrank_extractor.extract(texts, beta, max_iter)\n",
    "for word, r in sorted(keywords.items(), key=lambda x:x[1], reverse=True):\n",
    "        print('%8s:\\t%.4f' % (word, r))"
   ]
  },
  {
   "cell_type": "code",
   "execution_count": 19,
   "metadata": {},
   "outputs": [
    {
     "name": "stdout",
     "output_type": "stream",
     "text": [
      "     대피소:\t8.2011\n",
      "      지진:\t5.3690\n",
      "      이용:\t4.9502\n",
      "    제공하는:\t2.7603\n",
      "    \"서울시:\t2.5691\n",
      "      서울:\t2.5616\n",
      "      데이:\t2.0180\n",
      "      이를:\t1.9060\n",
      "      현황:\t1.8528\n",
      "      등의:\t1.8161\n",
      "      분석:\t1.7737\n",
      "   있습니다.:\t1.7242\n",
      "    포함되어:\t1.7137\n",
      "      위치:\t1.7081\n",
      "     필요할:\t1.6923\n",
      "      인원:\t1.6312\n",
      "    포털에서:\t1.6013\n",
      "     명칭,:\t1.5400\n",
      "     좌표,:\t1.4640\n",
      "     정보가:\t1.3726\n",
      "      수용:\t1.3679\n",
      "      가능:\t1.3289\n",
      "     지도에:\t1.3026\n",
      "      어떤:\t1.2865\n",
      "      파악:\t1.2014\n",
      "      예를:\t1.1648\n",
      "     안내\":\t1.1266\n",
      "     실시간:\t1.0627\n",
      "     사용할:\t1.0193\n",
      "      대한:\t0.9838\n",
      "      내부:\t0.9258\n",
      "     지역을:\t0.8870\n",
      "      많은:\t0.8770\n",
      "    바탕으로:\t0.8681\n",
      "      수집:\t0.8507\n",
      "     예시::\t0.8470\n",
      "     항목이:\t0.8318\n",
      "     종류의:\t0.8200\n",
      "    위해서는:\t0.8200\n",
      "     들어,:\t0.8161\n",
      "    서비스\":\t0.7833\n",
      "      여부:\t0.7480\n",
      "      관리:\t0.7338\n",
      "   시각화하여:\t0.6817\n",
      "      등을:\t0.6796\n",
      "   것입니다.:\t0.6747\n",
      "      공공:\t0.5867\n",
      "      재난:\t0.5837\n",
      "      기관:\t0.5767\n",
      "    시설물,:\t0.5674\n",
      "     수),:\t0.5259\n",
      "      중인:\t0.4385\n",
      "      발생:\t0.4179\n"
     ]
    }
   ],
   "source": [
    "from krwordrank.word import KRWordRank\n",
    "\n",
    "min_count = 1   # 단어의 최소 출현 빈도수 (그래프 생성 시)\n",
    "max_length = 10 # 단어의 최대 길이\n",
    "wordrank_extractor = KRWordRank(min_count=min_count, max_length=max_length)\n",
    "beta = 0.85    # PageRank의 decaying factor beta\n",
    "max_iter = 20\n",
    "texts = sentence_list\n",
    "keywords, rank, graph = wordrank_extractor.extract(texts, beta, max_iter)\n",
    "for word, r in sorted(keywords.items(), key=lambda x:x[1], reverse=True):\n",
    "        print('%8s:\\t%.4f' % (word, r))"
   ]
  },
  {
   "attachments": {},
   "cell_type": "markdown",
   "metadata": {},
   "source": [
    "## 명사로만 문장 구성"
   ]
  },
  {
   "cell_type": "code",
   "execution_count": 118,
   "metadata": {},
   "outputs": [],
   "source": [
    "from konlpy.tag import Okt\n",
    "import re\n",
    "\n",
    "def split_noun_sentences(text):\n",
    "    okt = Okt()\n",
    "    sentences = text.replace(\". \",\".\")\n",
    "    sentences = re.sub(r'([^\\n\\s\\.\\?!]+[^\\n\\.\\?!]*[\\.\\?!])', r'\\1\\n', sentences).strip().split(\"\\n\")\n",
    "    \n",
    "    result = []\n",
    "    for sentence in sentences:\n",
    "        if len(sentence) == 0:\n",
    "            continue\n",
    "        sentence_pos = okt.pos(sentence, stem=True)\n",
    "        nouns = [word for word, pos in sentence_pos if pos == 'Noun']\n",
    "        if len(nouns) == 1:\n",
    "            continue\n",
    "        result.append(' '.join(nouns) + '.')\n",
    "        \n",
    "    return result\n"
   ]
  },
  {
   "cell_type": "code",
   "execution_count": 119,
   "metadata": {},
   "outputs": [],
   "source": [
    "sentence_list2 = split_noun_sentences(text)"
   ]
  },
  {
   "cell_type": "code",
   "execution_count": 120,
   "metadata": {},
   "outputs": [
    {
     "data": {
      "text/plain": [
       "['서울 지진 대피소 대한 데이터 분석 위 종류 데이터 요.',\n",
       " '예 서울시 지진 대피소 위치 수용 가능 인원 대피소 내부 시설 물 대피소 이용 현황 등 정보 것.',\n",
       " '지진 대피소 위치 분석 예시 지진 대피소 위치 서울시 데이터 포털 제공 서울시 지진 대피소 안내 데이터 사용 수.',\n",
       " '이 데이터 셋 지진 대피소 명칭 위치 주소 좌표 수용 인원 관리 기관 등 항목 포함.',\n",
       " '바탕 대피소 위치 지도 시각 지진 발생 시 대피소 지역 파악 수.',\n",
       " '대피소 이용 현황 분석 예시 대피소 이용 현황 서울시 제공 서울시 재난 정보 실시간 수집 및 제공 서비스 데이터 사용 수.',\n",
       " '이 데이터 셋 대피소 이용 현황 대피소 이용 가능 여부 이용 중인 인원 수 지진 발생 시 대피소 이용 현황 등 정보 포함.',\n",
       " '바탕 대피소 이용 현황 분석 인원 대피소 파악 거나 대피소 이용 가능 여부 등 파악 수.']"
      ]
     },
     "execution_count": 120,
     "metadata": {},
     "output_type": "execute_result"
    }
   ],
   "source": [
    "sentence_list2"
   ]
  },
  {
   "cell_type": "code",
   "execution_count": 121,
   "metadata": {},
   "outputs": [
    {
     "data": {
      "text/plain": [
       "{'대피소': 1.6973963414238353,\n",
       " '이용': 1.2365894082366355,\n",
       " '지진': 1.1830066785290532,\n",
       " '데이': 0.9906795680773113,\n",
       " '위치': 0.8133123061030108,\n",
       " '서울': 0.793937004234468,\n",
       " '현황': 0.7869782218250642}"
      ]
     },
     "execution_count": 121,
     "metadata": {},
     "output_type": "execute_result"
    }
   ],
   "source": [
    "from krwordrank.word import summarize_with_keywords\n",
    "keywords = summarize_with_keywords(sentence_list2)\n",
    "keywords"
   ]
  },
  {
   "cell_type": "code",
   "execution_count": 146,
   "metadata": {},
   "outputs": [
    {
     "name": "stdout",
     "output_type": "stream",
     "text": [
      "     대피소:\t3.9079\n",
      "      이용:\t2.6113\n",
      "      지진:\t2.3556\n",
      "     데이터:\t2.0505\n",
      "      위치:\t1.6714\n",
      "      정보:\t1.5581\n",
      "     서울시:\t1.4501\n",
      "      현황:\t1.3216\n",
      "      인원:\t1.2894\n",
      "      제공:\t1.2875\n",
      "      수.:\t1.1318\n",
      "      분석:\t1.0403\n",
      "      파악:\t0.9077\n",
      "      가능:\t0.8762\n",
      "      수집:\t0.8421\n",
      "      포함:\t0.8065\n",
      "      수용:\t0.7872\n",
      "      사용:\t0.7857\n",
      "      실시:\t0.7174\n",
      "      바탕:\t0.7127\n",
      "      예시:\t0.6453\n",
      "      주소:\t0.5501\n",
      "      관리:\t0.5475\n",
      "      재난:\t0.5369\n",
      "      대한:\t0.5200\n",
      "      안내:\t0.5200\n",
      "      기관:\t0.5158\n",
      "      여부:\t0.5109\n",
      "      포털:\t0.5014\n",
      "     서비스:\t0.4939\n",
      "      항목:\t0.4915\n",
      "      요.:\t0.4638\n",
      "      시각:\t0.4444\n",
      "      지역:\t0.4440\n",
      "      거나:\t0.4425\n",
      "      명칭:\t0.4324\n",
      "      내부:\t0.4319\n",
      "      지도:\t0.3979\n",
      "      중인:\t0.3772\n",
      "      것.:\t0.3563\n",
      "      종류:\t0.3550\n",
      "      발생:\t0.3537\n",
      "      좌표:\t0.3479\n",
      "      시설:\t0.3119\n"
     ]
    }
   ],
   "source": [
    "from krwordrank.word import KRWordRank\n",
    "\n",
    "min_count = 1   # 단어의 최소 출현 빈도수 (그래프 생성 시)\n",
    "max_length = 10 # 단어의 최대 길이\n",
    "wordrank_extractor = KRWordRank(min_count=min_count, max_length=max_length)\n",
    "beta = 0.85    # PageRank의 decaying factor beta\n",
    "max_iter = 20\n",
    "texts = split_noun_sentences(text)\n",
    "keywords, rank, graph = wordrank_extractor.extract(texts, beta, max_iter)\n",
    "for word, r in sorted(keywords.items(), key=lambda x:x[1], reverse=True):\n",
    "        print('%8s:\\t%.4f' % (word, r))"
   ]
  }
 ],
 "metadata": {
  "kernelspec": {
   "display_name": "chat_venv",
   "language": "python",
   "name": "python3"
  },
  "language_info": {
   "codemirror_mode": {
    "name": "ipython",
    "version": 3
   },
   "file_extension": ".py",
   "mimetype": "text/x-python",
   "name": "python",
   "nbconvert_exporter": "python",
   "pygments_lexer": "ipython3",
   "version": "3.8.16"
  },
  "orig_nbformat": 4
 },
 "nbformat": 4,
 "nbformat_minor": 2
}
